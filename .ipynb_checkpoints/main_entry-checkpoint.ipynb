{
 "cells": [
  {
   "cell_type": "code",
   "execution_count": 1,
   "metadata": {},
   "outputs": [],
   "source": [
    "from algorithms import get_cky_table, ckyParser, get_viberti_trellis\n",
    "import pandas as pd\n",
    "import numpy as np"
   ]
  },
  {
   "cell_type": "markdown",
   "metadata": {},
   "source": [
    "### Minimum edit distance\n",
    "\n",
    "Addressing the problem: find the minimal edit distance between two string"
   ]
  },
  {
   "cell_type": "code",
   "execution_count": 25,
   "metadata": {},
   "outputs": [],
   "source": [
    "expression = \"/[gG]od/\""
   ]
  },
  {
   "cell_type": "code",
   "execution_count": 37,
   "metadata": {},
   "outputs": [
    {
     "data": {
      "text/plain": [
       "array([[ 0.,  1.,  2.,  3.,  4.,  5.,  6.,  7.,  8.,  9.],\n",
       "       [ 1.,  2.,  3.,  4.,  5.,  6.,  7.,  6.,  7.,  8.],\n",
       "       [ 2.,  3.,  4.,  5.,  6.,  7.,  8.,  7.,  8.,  7.],\n",
       "       [ 3.,  4.,  5.,  6.,  7.,  8.,  7.,  8.,  9.,  8.],\n",
       "       [ 4.,  3.,  4.,  5.,  6.,  7.,  8.,  9., 10.,  9.],\n",
       "       [ 5.,  4.,  5.,  6.,  7.,  8.,  9., 10., 11., 10.],\n",
       "       [ 6.,  5.,  6.,  7.,  8.,  9.,  8.,  9., 10., 11.],\n",
       "       [ 7.,  6.,  7.,  8.,  9., 10.,  9.,  8.,  9., 10.],\n",
       "       [ 8.,  7.,  8.,  9., 10., 11., 10.,  9.,  8.,  9.],\n",
       "       [ 9.,  8.,  9., 10., 11., 12., 11., 10.,  9.,  8.]])"
      ]
     },
     "execution_count": 37,
     "metadata": {},
     "output_type": "execute_result"
    }
   ],
   "source": [
    "def get_min_edit_distance_table(strA, strB, count_substitution=1):\n",
    "    \"\"\"\n",
    "    param str1, str2: the two string to calculate the edit distance.\n",
    "    substitution can be counted once or twice (= deletion + insertion).\n",
    "    return: distance table.\n",
    "    \"\"\"\n",
    "    # record the trace in the table to get to the minimal value in cell len(strA)xlen(strB)\n",
    "    trace = []\n",
    "    \n",
    "    # initiate a table to store distance\n",
    "    D = np.zeros((len(strA)+1, len(strB)+1))\n",
    "    D[0, :] = [i for i in range(len(strA) + 1)]\n",
    "    D[:, 0] = [i for i in range(len(strB) + 1)]\n",
    "    \n",
    "    for i in range(1, len(strA)+1):\n",
    "        for j in range(1, len(strB)+1):\n",
    "            if strA[i-1] != strB[j-1]:\n",
    "                if min(D[i-1, j], D[i, j-1]) <= D[i-1, j-1]:\n",
    "                    if D[i-1, j] <= D[i, j-1]:\n",
    "                        D[i, j] = 1 + D[i-1, j]\n",
    "                        trace.append((i-1, j))\n",
    "                    else:\n",
    "                        D[i, j] = 1 + D[i, j-1]\n",
    "                        trace.append((i-1, j))\n",
    "                else:\n",
    "                    D[i, j] = count_substitution + D[i-1, j-1] # subsitution\n",
    "                    trace.append((i-1, j-1))\n",
    "            else:\n",
    "                D[i, j] = D[i-1, j-1]\n",
    "                trace.append((i-1, j-1))\n",
    "    return D\n",
    "\n",
    "\n",
    "def get_min_edit_distance(strA, strB):\n",
    "    \n",
    "    D = get_min_edit_distance_table(strA, strB)\n",
    "    \n",
    "    return D[len(strA), len(strB)]\n",
    "\n",
    "\n",
    "str_A = \"intention\"\n",
    "str_B = \"execution\"\n",
    "\n",
    "get_min_edit_distance_table(str_A, str_B, count_substitution=2)"
   ]
  },
  {
   "cell_type": "markdown",
   "metadata": {},
   "source": [
    "### CKY parse\n",
    "\n",
    "Addressing the problem: check if a sentence is well-formed according to a context-free grammar (CFG). The grammar must be in Chomsky Normal Form (CNF) to be used as input to the CKY parsing algorithm. \n",
    "\n",
    "**Example**"
   ]
  },
  {
   "cell_type": "code",
   "execution_count": 7,
   "metadata": {},
   "outputs": [
    {
     "data": {
      "text/plain": [
       "['S', 'AB', 'BC', 'A', 'BA', 'a', 'B', 'CC', 'b', 'C', 'AB', 'a']"
      ]
     },
     "execution_count": 7,
     "metadata": {},
     "output_type": "execute_result"
    }
   ],
   "source": [
    "grammar = \"\"\"\n",
    "S -> AB|BC\n",
    "A -> BA|a\n",
    "B -> CC|b\n",
    "C -> AB|a\n",
    "\"\"\"\n",
    "\n",
    "# output: grammar_input = [\"S\", \"AB\", \"BC\", \"A\", \"BA\", \"a\", \"B\", \"CC\", \"b\", \"C\", \"AB\", \"a\"]\n",
    "grammar_input = grammar.replace(\" -> \", \" \").replace(\"\\n\", \" \").replace(\"|\", \" \").strip().split(\" \")\n",
    "grammar_input"
   ]
  },
  {
   "cell_type": "code",
   "execution_count": 8,
   "metadata": {},
   "outputs": [
    {
     "data": {
      "text/html": [
       "<div>\n",
       "<style scoped>\n",
       "    .dataframe tbody tr th:only-of-type {\n",
       "        vertical-align: middle;\n",
       "    }\n",
       "\n",
       "    .dataframe tbody tr th {\n",
       "        vertical-align: top;\n",
       "    }\n",
       "\n",
       "    .dataframe thead th {\n",
       "        text-align: right;\n",
       "    }\n",
       "</style>\n",
       "<table border=\"1\" class=\"dataframe\">\n",
       "  <thead>\n",
       "    <tr style=\"text-align: right;\">\n",
       "      <th></th>\n",
       "      <th></th>\n",
       "      <th>a</th>\n",
       "      <th>b</th>\n",
       "      <th>b</th>\n",
       "      <th>a</th>\n",
       "    </tr>\n",
       "  </thead>\n",
       "  <tbody>\n",
       "    <tr>\n",
       "      <td>0</td>\n",
       "      <td>-</td>\n",
       "      <td>A,C</td>\n",
       "      <td>S,C</td>\n",
       "      <td>-</td>\n",
       "      <td>-</td>\n",
       "    </tr>\n",
       "    <tr>\n",
       "      <td>1</td>\n",
       "      <td>-</td>\n",
       "      <td>-</td>\n",
       "      <td>B</td>\n",
       "      <td>-</td>\n",
       "      <td>A</td>\n",
       "    </tr>\n",
       "    <tr>\n",
       "      <td>2</td>\n",
       "      <td>-</td>\n",
       "      <td>-</td>\n",
       "      <td>-</td>\n",
       "      <td>B</td>\n",
       "      <td>A,S</td>\n",
       "    </tr>\n",
       "    <tr>\n",
       "      <td>3</td>\n",
       "      <td>-</td>\n",
       "      <td>-</td>\n",
       "      <td>-</td>\n",
       "      <td>-</td>\n",
       "      <td>A,C</td>\n",
       "    </tr>\n",
       "    <tr>\n",
       "      <td>4</td>\n",
       "      <td>-</td>\n",
       "      <td>-</td>\n",
       "      <td>-</td>\n",
       "      <td>-</td>\n",
       "      <td>-</td>\n",
       "    </tr>\n",
       "  </tbody>\n",
       "</table>\n",
       "</div>"
      ],
      "text/plain": [
       "        a    b  b    a\n",
       "0  -  A,C  S,C  -    -\n",
       "1  -    -    B  -    A\n",
       "2  -    -    -  B  A,S\n",
       "3  -    -    -  -  A,C\n",
       "4  -    -    -  -    -"
      ]
     },
     "execution_count": 8,
     "metadata": {},
     "output_type": "execute_result"
    }
   ],
   "source": [
    "string_input = \"abba\"\n",
    "\n",
    "# print(ckyParser(string_input, grammar_input))\n",
    "# print(get_cky_table(string_input, grammar_input))\n",
    "pd.DataFrame(get_cky_table(string_input, grammar_input), columns=list(\" \"+string_input))"
   ]
  },
  {
   "cell_type": "markdown",
   "metadata": {},
   "source": [
    "### Hidden Markov Chain with the Viberti algorithm \n",
    "\n",
    "Addressing the problem: part-of-speech tagging"
   ]
  },
  {
   "cell_type": "markdown",
   "metadata": {},
   "source": [
    "**Example 1**"
   ]
  },
  {
   "cell_type": "code",
   "execution_count": 21,
   "metadata": {},
   "outputs": [
    {
     "name": "stdout",
     "output_type": "stream",
     "text": [
      "An example of a trasition matrix:\n",
      "\n",
      "       Det  Adj  Noun  Verb  #eos#\n",
      "Det    0.0  0.2   0.8   0.0    0.0\n",
      "Adj    0.0  0.3   0.6   0.0    0.1\n",
      "Noun   0.0  0.0   0.0   0.5    0.5\n",
      "Verb   0.5  0.1   0.2   0.0    0.2\n",
      "#bos#  0.5  0.2   0.3   0.0    0.0\n",
      "\n",
      "\n",
      "An example of an emission matrix:\n",
      "\n",
      "      the  dog  chases  cat  fat\n",
      "Det   1.0  0.0     0.0  0.0  0.0\n",
      "Adj   0.0  0.0     0.0  0.0  1.0\n",
      "Noun  0.0  0.5     0.0  0.4  0.1\n",
      "Verb  0.0  0.1     0.8  0.1  0.0\n"
     ]
    }
   ],
   "source": [
    "tags = [\"Det\", \"Adj\", \"Noun\", \"Verb\"]\n",
    "# states\n",
    "q = np.array([[0.0, 0.2, 0.8, 0.0, 0.0], \n",
    "              [0.0, 0.3, 0.6, 0.0, 0.1],\n",
    "              [0.0, 0.0, 0.0, 0.5, 0.5],\n",
    "              [0.5, 0.1, 0.2, 0.0, 0.2],\n",
    "              [0.5, 0.2, 0.3, 0.0, 0.0]])\n",
    "\n",
    "\n",
    "unique_types = [\"the\", \"dog\", \"chases\", \"cat\", \"fat\"]\n",
    "# observations\n",
    "o = pd.DataFrame(np.array([[1.0, 0.0, 0.0, 0.0, 0.0],\n",
    "                           [0.0, 0.0, 0.0, 0.0, 1.0],\n",
    "                           [0.0, 0.5, 0.0, 0.4, 0.1],\n",
    "                           [0.0, 0.1, 0.8, 0.1, 0.0]]), columns = unique_types, index=[\"Det\", \"Adj\", \"Noun\", \"Verb\"])\n",
    "\n",
    "\n",
    "# below we show the two dataframe to give a complete idea of what the matrices entail\n",
    "print(\"An example of a trasition matrix:\\n\")\n",
    "print(pd.DataFrame(q, columns=[\"Det\", \"Adj\", \"Noun\", \"Verb\", \"#eos#\"], index=[\"Det\", \"Adj\", \"Noun\", \"Verb\", \"#bos#\"]))\n",
    "print(\"\\n\\nAn example of an emission matrix:\\n\")\n",
    "print(o)"
   ]
  },
  {
   "cell_type": "code",
   "execution_count": 22,
   "metadata": {},
   "outputs": [],
   "source": [
    "# get the trellis and the tag trace for the sentence below\n",
    "sent = \"The dog chases the fat cat\"\n",
    "trellis, trace = get_viberti_trellis(state_transition=q, emission=o, sentence= sent)"
   ]
  },
  {
   "cell_type": "code",
   "execution_count": 23,
   "metadata": {},
   "outputs": [
    {
     "data": {
      "text/html": [
       "<div>\n",
       "<style scoped>\n",
       "    .dataframe tbody tr th:only-of-type {\n",
       "        vertical-align: middle;\n",
       "    }\n",
       "\n",
       "    .dataframe tbody tr th {\n",
       "        vertical-align: top;\n",
       "    }\n",
       "\n",
       "    .dataframe thead th {\n",
       "        text-align: right;\n",
       "    }\n",
       "</style>\n",
       "<table border=\"1\" class=\"dataframe\">\n",
       "  <thead>\n",
       "    <tr style=\"text-align: right;\">\n",
       "      <th></th>\n",
       "      <th>bos</th>\n",
       "      <th>The</th>\n",
       "      <th>dog</th>\n",
       "      <th>chases</th>\n",
       "      <th>the</th>\n",
       "      <th>fat</th>\n",
       "      <th>cat</th>\n",
       "      <th>eos</th>\n",
       "    </tr>\n",
       "  </thead>\n",
       "  <tbody>\n",
       "    <tr>\n",
       "      <td>0</td>\n",
       "      <td>0.5</td>\n",
       "      <td>0.5</td>\n",
       "      <td>0.00</td>\n",
       "      <td>0.00</td>\n",
       "      <td>0.04</td>\n",
       "      <td>0.0000</td>\n",
       "      <td>0.00000</td>\n",
       "      <td>0.0</td>\n",
       "    </tr>\n",
       "    <tr>\n",
       "      <td>1</td>\n",
       "      <td>0.2</td>\n",
       "      <td>0.0</td>\n",
       "      <td>0.00</td>\n",
       "      <td>0.00</td>\n",
       "      <td>0.00</td>\n",
       "      <td>0.0320</td>\n",
       "      <td>0.00000</td>\n",
       "      <td>0.1</td>\n",
       "    </tr>\n",
       "    <tr>\n",
       "      <td>2</td>\n",
       "      <td>0.3</td>\n",
       "      <td>0.0</td>\n",
       "      <td>0.20</td>\n",
       "      <td>0.00</td>\n",
       "      <td>0.00</td>\n",
       "      <td>0.0032</td>\n",
       "      <td>0.00768</td>\n",
       "      <td>0.5</td>\n",
       "    </tr>\n",
       "    <tr>\n",
       "      <td>3</td>\n",
       "      <td>0.0</td>\n",
       "      <td>0.0</td>\n",
       "      <td>0.04</td>\n",
       "      <td>0.08</td>\n",
       "      <td>0.00</td>\n",
       "      <td>0.0000</td>\n",
       "      <td>0.00192</td>\n",
       "      <td>0.2</td>\n",
       "    </tr>\n",
       "  </tbody>\n",
       "</table>\n",
       "</div>"
      ],
      "text/plain": [
       "   bos  The   dog  chases   the     fat      cat  eos\n",
       "0  0.5  0.5  0.00    0.00  0.04  0.0000  0.00000  0.0\n",
       "1  0.2  0.0  0.00    0.00  0.00  0.0320  0.00000  0.1\n",
       "2  0.3  0.0  0.20    0.00  0.00  0.0032  0.00768  0.5\n",
       "3  0.0  0.0  0.04    0.08  0.00  0.0000  0.00192  0.2"
      ]
     },
     "execution_count": 23,
     "metadata": {},
     "output_type": "execute_result"
    }
   ],
   "source": [
    "# view the trellis\n",
    "col_names = [\"bos\"]\n",
    "col_names.extend(sent.split(\" \"))\n",
    "col_names.append(\"eos\")\n",
    "pd.DataFrame(trellis, columns = col_names)"
   ]
  },
  {
   "cell_type": "code",
   "execution_count": 24,
   "metadata": {},
   "outputs": [
    {
     "data": {
      "text/plain": [
       "[('The', 'Det'),\n",
       " ('dog', 'Noun'),\n",
       " ('chases', 'Verb'),\n",
       " ('the', 'Det'),\n",
       " ('fat', 'Adj'),\n",
       " ('cat', 'Noun')]"
      ]
     },
     "execution_count": 24,
     "metadata": {},
     "output_type": "execute_result"
    }
   ],
   "source": [
    "# view the tag for the words\n",
    "[(s, tags[t]) for s, t in zip(sent.split(\" \"), trace)]"
   ]
  },
  {
   "cell_type": "markdown",
   "metadata": {},
   "source": [
    "**Example 2**"
   ]
  },
  {
   "cell_type": "code",
   "execution_count": 11,
   "metadata": {},
   "outputs": [
    {
     "data": {
      "text/html": [
       "<div>\n",
       "<style scoped>\n",
       "    .dataframe tbody tr th:only-of-type {\n",
       "        vertical-align: middle;\n",
       "    }\n",
       "\n",
       "    .dataframe tbody tr th {\n",
       "        vertical-align: top;\n",
       "    }\n",
       "\n",
       "    .dataframe thead th {\n",
       "        text-align: right;\n",
       "    }\n",
       "</style>\n",
       "<table border=\"1\" class=\"dataframe\">\n",
       "  <thead>\n",
       "    <tr style=\"text-align: right;\">\n",
       "      <th></th>\n",
       "      <th>bos</th>\n",
       "      <th>w</th>\n",
       "      <th>v</th>\n",
       "      <th>y</th>\n",
       "      <th>eos</th>\n",
       "    </tr>\n",
       "  </thead>\n",
       "  <tbody>\n",
       "    <tr>\n",
       "      <td>0</td>\n",
       "      <td>0.7</td>\n",
       "      <td>0.56</td>\n",
       "      <td>0.0000</td>\n",
       "      <td>0.014336</td>\n",
       "      <td>0.0</td>\n",
       "    </tr>\n",
       "    <tr>\n",
       "      <td>1</td>\n",
       "      <td>0.2</td>\n",
       "      <td>0.02</td>\n",
       "      <td>0.1792</td>\n",
       "      <td>0.000000</td>\n",
       "      <td>0.1</td>\n",
       "    </tr>\n",
       "    <tr>\n",
       "      <td>2</td>\n",
       "      <td>0.2</td>\n",
       "      <td>0.00</td>\n",
       "      <td>0.0000</td>\n",
       "      <td>0.007168</td>\n",
       "      <td>0.5</td>\n",
       "    </tr>\n",
       "  </tbody>\n",
       "</table>\n",
       "</div>"
      ],
      "text/plain": [
       "   bos     w       v         y  eos\n",
       "0  0.7  0.56  0.0000  0.014336  0.0\n",
       "1  0.2  0.02  0.1792  0.000000  0.1\n",
       "2  0.2  0.00  0.0000  0.007168  0.5"
      ]
     },
     "execution_count": 11,
     "metadata": {},
     "output_type": "execute_result"
    }
   ],
   "source": [
    "tags = [\"A\", \"B\", \"C\"]\n",
    "# states\n",
    "q = np.array([[0.0, 0.2, 0.8, 0.0], \n",
    "              [0.2, 0.3, 0.4, 0.1],\n",
    "              [0.1, 0.2, 0.2, 0.5],\n",
    "              [0.7, 0.2, 0.2, 0.5]])\n",
    "\n",
    "\n",
    "unique_types = [\"v\", \"w\", \"x\", \"y\", \"z\"]\n",
    "# observations\n",
    "o = pd.DataFrame(np.array([[0.0, 0.8, 0.0, 0.2, 0.0],\n",
    "                           [0.4, 0.1, 0.5, 0.0, 0.0],\n",
    "                           [0.0, 0.0, 0.3, 0.1, 0.6]]), columns = unique_types)\n",
    "\n",
    "\n",
    "sent = \"w v y\"\n",
    "trellis, trace = get_viberti_trellis(state_transition=q, emission=o, sentence= sent)\n",
    "\n",
    "# view the trellis\n",
    "col_names = [\"bos\"]\n",
    "col_names.extend(sent.split(\" \"))\n",
    "col_names.append(\"eos\")\n",
    "pd.DataFrame(trellis, columns = col_names)"
   ]
  },
  {
   "cell_type": "code",
   "execution_count": 12,
   "metadata": {},
   "outputs": [
    {
     "data": {
      "text/plain": [
       "[('w', 'A'), ('v', 'B'), ('y', 'A')]"
      ]
     },
     "execution_count": 12,
     "metadata": {},
     "output_type": "execute_result"
    }
   ],
   "source": [
    "# view the tag for the words\n",
    "[(s, tags[t]) for s, t in zip(sent.split(\" \"), trace)]"
   ]
  },
  {
   "cell_type": "markdown",
   "metadata": {},
   "source": []
  },
  {
   "cell_type": "code",
   "execution_count": null,
   "metadata": {},
   "outputs": [],
   "source": []
  }
 ],
 "metadata": {
  "kernelspec": {
   "display_name": "Python 3",
   "language": "python",
   "name": "python3"
  },
  "language_info": {
   "codemirror_mode": {
    "name": "ipython",
    "version": 3
   },
   "file_extension": ".py",
   "mimetype": "text/x-python",
   "name": "python",
   "nbconvert_exporter": "python",
   "pygments_lexer": "ipython3",
   "version": "3.7.4"
  }
 },
 "nbformat": 4,
 "nbformat_minor": 2
}
